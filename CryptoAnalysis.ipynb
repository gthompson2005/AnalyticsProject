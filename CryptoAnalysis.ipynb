{
 "cells": [
  {
   "cell_type": "code",
   "execution_count": null,
   "metadata": {},
   "outputs": [],
   "source": [
    "#!pip install pandas_datareader\n",
    "#!pip install yfinance --upgrade --no-cache-dir\n",
    "#!pip install quandl\n",
    "#!pip install plotly\n",
    "#!pip install cufflinks\n",
    "#!pip install tensorflow\n",
    "#!pip install numpy --upgrade"
   ]
  },
  {
   "cell_type": "code",
   "execution_count": 22,
   "metadata": {},
   "outputs": [],
   "source": [
    "import os\n",
    "import pandas as pd\n",
    "import numpy as np\n",
    "import math\n",
    "from matplotlib import pyplot as plt\n",
    "from keras.models import Sequential\n",
    "from keras.layers import Dense, Dropout\n",
    "from keras.layers import LSTM\n",
    "from sklearn.preprocessing import StandardScaler\n",
    "from sklearn.metrics import mean_squared_error\n",
    "import seaborn as sns\n",
    "# Not used right now\n",
    "#from torch.autograd import Variable"
   ]
  },
  {
   "cell_type": "code",
   "execution_count": 46,
   "metadata": {},
   "outputs": [],
   "source": [
    " def importRawData():\n",
    "    localData = pd.DataFrame()\n",
    "    for filename in os.listdir(os.getcwd()):\n",
    "        if filename.endswith(\".csv\"):\n",
    "            tempdf = pd.read_csv(filename)\n",
    "            tempdf['date'] = pd.to_datetime(tempdf['date'], unit='s')\n",
    "            #Rename Columns to allow for appending other data\n",
    "            cols = list(tempdf)\n",
    "            cols.insert(0,cols.pop(cols.index('close')))\n",
    "            tempdf = tempdf.loc[:,cols]\n",
    "            tempdf = tempdf.rename(\n",
    "                columns = {\n",
    "                    column_name: filename[0:6] + '_' + column_name for index,column_name in enumerate(tempdf.columns)\n",
    "                }\n",
    "            )\n",
    "                \n",
    "            if localData.empty == True:\n",
    "                localData = tempdf\n",
    "            else:\n",
    "                if len(localData.columns) == len(tempdf.columns):\n",
    "                    localData = localData.append(tempdf)\n",
    "                else:\n",
    "                    raise Exception(\"Column counts of csv do not match\")\n",
    "            \n",
    "        else:\n",
    "            continue\n",
    "    localData = localData.set_index('BTCUSD_date')\n",
    "    \n",
    "    return localData"
   ]
  },
  {
   "cell_type": "code",
   "execution_count": 57,
   "metadata": {},
   "outputs": [],
   "source": [
    "## Add Moving averages\n",
    "def addFeaturesToDF(df=pd.DataFrame()):\n",
    "    localData = df.copy()\n",
    "    \n",
    "    \n",
    "    for colname in localData.columns:\n",
    "        if colname.endswith(\"close\"):\n",
    "            \n",
    "            localData[colname[0:6] +'-10MA'] = localData[colname].rolling(10).mean()\n",
    "            localData[colname[0:6] +'-20MA'] = localData[colname].rolling(20).mean()\n",
    "            localData[colname[0:6] +'-50MA'] = localData[colname].rolling(50).mean()\n",
    "            localData[colname[0:6] +'-100MA'] = localData[colname].rolling(100).mean()\n",
    "            localData[colname[0:6] +'-200MA'] = localData[colname].rolling(200).mean()\n",
    "            ##localCopy[colname[0:6] +'-DPercentChange'] = ((histData[colname]-histData['Open'])/histData['Open'])*100.0\n",
    "            localData[colname[0:6] +'-Close-1'] = localData[colname].shift(1)\n",
    "            localData[colname[0:6] +'-Close-2'] = localData[colname].shift(2)\n",
    "            localData[colname[0:6] +'-Close-3'] = localData[colname].shift(3)\n",
    "            localData[colname[0:6] +'-Close-4'] = localData[colname].shift(4)\n",
    "            localData[colname[0:6] +'-Close-5'] = localData[colname].shift(5)\n",
    "            \n",
    "    localData = localData.dropna()\n",
    "    return localData\n",
    "\n"
   ]
  },
  {
   "cell_type": "code",
   "execution_count": 110,
   "metadata": {},
   "outputs": [],
   "source": [
    "rawdata = importRawData()\n",
    "formatteddata = addFeaturesToDF(rawdata)"
   ]
  },
  {
   "cell_type": "code",
   "execution_count": 111,
   "metadata": {
    "scrolled": false
   },
   "outputs": [
    {
     "data": {
      "text/plain": [
       "<bound method NDFrame.head of                      BTCUSD_close  BTCUSD_low  BTCUSD_high  BTCUSD_open  \\\n",
       "BTCUSD_date                                                               \n",
       "2020-01-01 00:00:00       7186.68     7195.24      7196.25      7183.14   \n",
       "2020-01-01 00:01:00       7184.03     7187.67      7188.06      7182.20   \n",
       "2020-01-01 00:02:00       7182.43     7184.41      7184.71      7180.26   \n",
       "2020-01-01 00:03:00       7185.94     7183.83      7188.94      7182.49   \n",
       "2020-01-01 00:04:00       7179.78     7185.54      7185.54      7178.64   \n",
       "...                           ...         ...          ...          ...   \n",
       "2021-05-12 00:25:00      56936.72    56877.58     56952.58     56836.73   \n",
       "2021-05-12 00:26:00      56985.32    56936.73     57005.57     56936.72   \n",
       "2021-05-12 00:27:00      56995.56    56985.33     57009.97     56950.00   \n",
       "2021-05-12 00:28:00      56980.00    56995.56     57007.94     56966.09   \n",
       "2021-05-12 00:29:00      56985.68    56980.00     56998.00     56930.45   \n",
       "\n",
       "                     BTCUSD_volume  \n",
       "BTCUSD_date                         \n",
       "2020-01-01 00:00:00      51.642812  \n",
       "2020-01-01 00:01:00       7.248148  \n",
       "2020-01-01 00:02:00      11.681677  \n",
       "2020-01-01 00:03:00      10.025391  \n",
       "2020-01-01 00:04:00      14.911105  \n",
       "...                            ...  \n",
       "2021-05-12 00:25:00      34.775288  \n",
       "2021-05-12 00:26:00      36.081370  \n",
       "2021-05-12 00:27:00      43.744229  \n",
       "2021-05-12 00:28:00      38.086665  \n",
       "2021-05-12 00:29:00      33.428374  \n",
       "\n",
       "[713871 rows x 5 columns]>"
      ]
     },
     "execution_count": 111,
     "metadata": {},
     "output_type": "execute_result"
    }
   ],
   "source": [
    "rawdata.head"
   ]
  },
  {
   "cell_type": "code",
   "execution_count": 112,
   "metadata": {
    "scrolled": false
   },
   "outputs": [
    {
     "data": {
      "text/plain": [
       "<bound method NDFrame.head of                      BTCUSD_close  BTCUSD_low  BTCUSD_high  BTCUSD_open  \\\n",
       "BTCUSD_date                                                               \n",
       "2020-01-01 03:19:00       7235.50     7234.93      7235.50      7230.00   \n",
       "2020-01-01 03:20:00       7234.65     7234.11      7236.89      7232.87   \n",
       "2020-01-01 03:21:00       7233.48     7235.71      7236.74      7233.07   \n",
       "2020-01-01 03:22:00       7236.18     7235.32      7236.47      7234.44   \n",
       "2020-01-01 03:23:00       7234.89     7235.09      7237.14      7234.77   \n",
       "...                           ...         ...          ...          ...   \n",
       "2021-05-12 00:25:00      56936.72    56877.58     56952.58     56836.73   \n",
       "2021-05-12 00:26:00      56985.32    56936.73     57005.57     56936.72   \n",
       "2021-05-12 00:27:00      56995.56    56985.33     57009.97     56950.00   \n",
       "2021-05-12 00:28:00      56980.00    56995.56     57007.94     56966.09   \n",
       "2021-05-12 00:29:00      56985.68    56980.00     56998.00     56930.45   \n",
       "\n",
       "                     BTCUSD_volume  BTCUSD-10MA  BTCUSD-20MA  BTCUSD-50MA  \\\n",
       "BTCUSD_date                                                                 \n",
       "2020-01-01 03:19:00      16.227572     7229.796    7230.3915    7233.4084   \n",
       "2020-01-01 03:20:00       7.415033     7230.610    7229.9300    7233.4436   \n",
       "2020-01-01 03:21:00       8.057339     7231.298    7229.8930    7233.4832   \n",
       "2020-01-01 03:22:00       7.141891     7232.087    7230.1895    7233.5514   \n",
       "2020-01-01 03:23:00       6.952004     7232.759    7230.3160    7233.6156   \n",
       "...                            ...          ...          ...          ...   \n",
       "2021-05-12 00:25:00      34.775288    56894.398   56968.4215   56762.7138   \n",
       "2021-05-12 00:26:00      36.081370    56897.563   56968.5225   56772.6538   \n",
       "2021-05-12 00:27:00      43.744229    56910.758   56962.2025   56782.3050   \n",
       "2021-05-12 00:28:00      38.086665    56921.908   56952.1375   56791.5730   \n",
       "2021-05-12 00:29:00      33.428374    56929.167   56948.1455   56801.7162   \n",
       "\n",
       "                     BTCUSD-100MA  BTCUSD-200MA  BTCUSD-Close-1  \\\n",
       "BTCUSD_date                                                       \n",
       "2020-01-01 03:19:00     7224.9564    7206.73705         7234.78   \n",
       "2020-01-01 03:20:00     7225.1327    7206.97690         7235.50   \n",
       "2020-01-01 03:21:00     7225.3407    7207.22415         7234.65   \n",
       "2020-01-01 03:22:00     7225.5876    7207.49290         7233.48   \n",
       "2020-01-01 03:23:00     7225.8018    7207.73765         7236.18   \n",
       "...                           ...           ...             ...   \n",
       "2021-05-12 00:25:00    56578.1163   56566.17000        56877.59   \n",
       "2021-05-12 00:26:00    56583.8407   56567.12375        56936.72   \n",
       "2021-05-12 00:27:00    56589.8168   56568.23235        56985.32   \n",
       "2021-05-12 00:28:00    56595.7400   56569.30000        56995.56   \n",
       "2021-05-12 00:29:00    56600.9577   56570.54875        56980.00   \n",
       "\n",
       "                     BTCUSD-Close-2  BTCUSD-Close-3  BTCUSD-Close-4  \\\n",
       "BTCUSD_date                                                           \n",
       "2020-01-01 03:19:00         7232.30         7229.30         7228.01   \n",
       "2020-01-01 03:20:00         7234.78         7232.30         7229.30   \n",
       "2020-01-01 03:21:00         7235.50         7234.78         7232.30   \n",
       "2020-01-01 03:22:00         7234.65         7235.50         7234.78   \n",
       "2020-01-01 03:23:00         7233.48         7234.65         7235.50   \n",
       "...                             ...             ...             ...   \n",
       "2021-05-12 00:25:00        56882.45        56917.76        56902.75   \n",
       "2021-05-12 00:26:00        56877.59        56882.45        56917.76   \n",
       "2021-05-12 00:27:00        56936.72        56877.59        56882.45   \n",
       "2021-05-12 00:28:00        56985.32        56936.72        56877.59   \n",
       "2021-05-12 00:29:00        56995.56        56985.32        56936.72   \n",
       "\n",
       "                     BTCUSD-Close-5  \n",
       "BTCUSD_date                          \n",
       "2020-01-01 03:19:00         7228.50  \n",
       "2020-01-01 03:20:00         7228.01  \n",
       "2020-01-01 03:21:00         7229.30  \n",
       "2020-01-01 03:22:00         7232.30  \n",
       "2020-01-01 03:23:00         7234.78  \n",
       "...                             ...  \n",
       "2021-05-12 00:25:00        56827.84  \n",
       "2021-05-12 00:26:00        56902.75  \n",
       "2021-05-12 00:27:00        56917.76  \n",
       "2021-05-12 00:28:00        56882.45  \n",
       "2021-05-12 00:29:00        56877.59  \n",
       "\n",
       "[713672 rows x 15 columns]>"
      ]
     },
     "execution_count": 112,
     "metadata": {},
     "output_type": "execute_result"
    }
   ],
   "source": [
    "formatteddata.head\n"
   ]
  },
  {
   "cell_type": "code",
   "execution_count": 113,
   "metadata": {
    "scrolled": true
   },
   "outputs": [],
   "source": [
    "#formatteddata.plot()\n",
    "#pyplot.show()"
   ]
  },
  {
   "cell_type": "markdown",
   "metadata": {},
   "source": [
    "<h1>Keras Setup</h1>"
   ]
  },
  {
   "cell_type": "code",
   "execution_count": 114,
   "metadata": {},
   "outputs": [
    {
     "data": {
      "text/plain": [
       "['BTCUSD_close',\n",
       " 'BTCUSD_low',\n",
       " 'BTCUSD_high',\n",
       " 'BTCUSD_open',\n",
       " 'BTCUSD_volume',\n",
       " 'BTCUSD-10MA',\n",
       " 'BTCUSD-20MA',\n",
       " 'BTCUSD-50MA',\n",
       " 'BTCUSD-100MA',\n",
       " 'BTCUSD-200MA',\n",
       " 'BTCUSD-Close-1',\n",
       " 'BTCUSD-Close-2',\n",
       " 'BTCUSD-Close-3',\n",
       " 'BTCUSD-Close-4',\n",
       " 'BTCUSD-Close-5']"
      ]
     },
     "execution_count": 114,
     "metadata": {},
     "output_type": "execute_result"
    }
   ],
   "source": [
    "list(formatteddata)"
   ]
  },
  {
   "cell_type": "code",
   "execution_count": 115,
   "metadata": {},
   "outputs": [],
   "source": [
    "train_dates = pd.to_datetime(formatteddata.index)\n",
    "cols = list(formatteddata)\n",
    "dftraining = formatteddata[cols].astype(float)\n"
   ]
  },
  {
   "cell_type": "code",
   "execution_count": 116,
   "metadata": {},
   "outputs": [],
   "source": [
    "scaler = StandardScaler()\n",
    "scaler = scaler.fit(dftraining)\n",
    "dftrainingscaled = scaler.transform(dftraining)"
   ]
  },
  {
   "cell_type": "code",
   "execution_count": 117,
   "metadata": {},
   "outputs": [],
   "source": [
    "trainX = []\n",
    "trainY = []\n",
    "\n",
    "n_future = 1 # Number of periods we want to predict into the future\n",
    "n_past = 14 # Number of past periods to use for predicting future\n",
    "\n",
    "for i in range(n_past, len(dftrainingscaled) - n_future +1):\n",
    "    trainX.append(dftrainingscaled[i - n_past:i, 0:dftraining.shape[1]])\n",
    "    trainY.append(dftrainingscaled[i + n_future -1: i + n_future,0])\n",
    "    \n",
    "trainX, trainY = np.array(trainX), np.array(trainY)\n",
    "\n"
   ]
  },
  {
   "cell_type": "code",
   "execution_count": 118,
   "metadata": {},
   "outputs": [
    {
     "name": "stdout",
     "output_type": "stream",
     "text": [
      "trainX shape == (713658, 14, 15).\n",
      "trainY shape == (713658, 1).\n"
     ]
    }
   ],
   "source": [
    "print('trainX shape == {}.'.format(trainX.shape))\n",
    "print('trainY shape == {}.'.format(trainY.shape))"
   ]
  },
  {
   "cell_type": "code",
   "execution_count": 119,
   "metadata": {},
   "outputs": [
    {
     "name": "stdout",
     "output_type": "stream",
     "text": [
      "Model: \"sequential_7\"\n",
      "_________________________________________________________________\n",
      "Layer (type)                 Output Shape              Param #   \n",
      "=================================================================\n",
      "lstm_14 (LSTM)               (None, 14, 64)            20480     \n",
      "_________________________________________________________________\n",
      "lstm_15 (LSTM)               (None, 32)                12416     \n",
      "_________________________________________________________________\n",
      "dropout_4 (Dropout)          (None, 32)                0         \n",
      "_________________________________________________________________\n",
      "dense_5 (Dense)              (None, 1)                 33        \n",
      "=================================================================\n",
      "Total params: 32,929\n",
      "Trainable params: 32,929\n",
      "Non-trainable params: 0\n",
      "_________________________________________________________________\n"
     ]
    }
   ],
   "source": [
    "model = Sequential()\n",
    "model.add(LSTM(64, activation='relu', input_shape=(trainX.shape[1], trainX.shape[2]), return_sequences=True))\n",
    "model.add(LSTM(32, activation='relu', return_sequences=False))\n",
    "model.add(Dropout(0.2))\n",
    "model.add(Dense(trainY.shape[1]))\n",
    "\n",
    "model.compile(optimizer='adam', loss='mse')\n",
    "model.summary()"
   ]
  },
  {
   "cell_type": "code",
   "execution_count": 120,
   "metadata": {
    "scrolled": true
   },
   "outputs": [
    {
     "name": "stdout",
     "output_type": "stream",
     "text": [
      "Epoch 1/10\n",
      "20072/20072 [==============================] - 233s 11ms/step - loss: 0.0138 - val_loss: 2.4149e-04\n",
      "Epoch 2/10\n",
      "20072/20072 [==============================] - 218s 11ms/step - loss: 0.0102 - val_loss: 0.0311\n",
      "Epoch 3/10\n",
      "20072/20072 [==============================] - 217s 11ms/step - loss: 0.0100 - val_loss: 1.8153e-04\n",
      "Epoch 4/10\n",
      "20072/20072 [==============================] - 223s 11ms/step - loss: 0.0098 - val_loss: 5.2571e-05\n",
      "Epoch 5/10\n",
      "20072/20072 [==============================] - 213s 11ms/step - loss: 0.0097 - val_loss: 1.5712e-04\n",
      "Epoch 6/10\n",
      "20072/20072 [==============================] - 212s 11ms/step - loss: 0.0098 - val_loss: 4.7051e-04\n",
      "Epoch 7/10\n",
      "20072/20072 [==============================] - 211s 11ms/step - loss: 0.0097 - val_loss: 0.0048\n",
      "Epoch 8/10\n",
      "20072/20072 [==============================] - 211s 11ms/step - loss: 0.0097 - val_loss: 0.0066\n",
      "Epoch 9/10\n",
      "20072/20072 [==============================] - 211s 10ms/step - loss: 0.0097 - val_loss: 0.0034\n",
      "Epoch 10/10\n",
      "20072/20072 [==============================] - 209s 10ms/step - loss: 0.0096 - val_loss: 8.9921e-04\n"
     ]
    }
   ],
   "source": [
    "history = model.fit(trainX, trainY, epochs=10, batch_size=32, validation_split=0.1, verbose=1)\n"
   ]
  },
  {
   "cell_type": "code",
   "execution_count": 123,
   "metadata": {},
   "outputs": [
    {
     "data": {
      "text/plain": [
       "<matplotlib.legend.Legend at 0x27cb390aeb0>"
      ]
     },
     "execution_count": 123,
     "metadata": {},
     "output_type": "execute_result"
    },
    {
     "data": {
      "image/png": "[encoded data removed]",
      "text/plain": [
       "<Figure size 432x288 with 1 Axes>"
      ]
     },
     "metadata": {
      "needs_background": "light"
     },
     "output_type": "display_data"
    }
   ],
   "source": [
    "plt.plot(history.history['loss'], label='Training loss')\n",
    "plt.plot(history.history['val_loss'], label='Validation loss')\n",
    "plt.legend()"
   ]
  },
  {
   "cell_type": "code",
   "execution_count": 124,
   "metadata": {},
   "outputs": [],
   "source": [
    "n_future=90\n",
    "\n",
    "forecast_period_dates = pd.date_range(list(train_dates)[-1], periods=n_future, freq='1T').tolist()\n",
    "\n",
    "forecast = model.predict(trainX[-n_future:]) #forecast "
   ]
  },
  {
   "cell_type": "code",
   "execution_count": 125,
   "metadata": {},
   "outputs": [],
   "source": [
    "forecast_copies = np.repeat(forecast, dftraining.shape[1], axis=-1)\n",
    "y_pred_future = scaler.inverse_transform(forecast_copies)[:,0]\n",
    "\n",
    "forecast_dates = []\n",
    "for time_i in forecast_period_dates:\n",
    "    forecast_dates.append(time_i)\n",
    "\n",
    "df_forecast = pd.DataFrame({'tmpDate':np.array(forecast_dates), 'BTCUSD_close':y_pred_future})\n",
    "#df_forecast['tmpDate']=pd.to_datetime(df_forecast['tmpDate'])\n",
    "\n"
   ]
  },
  {
   "cell_type": "code",
   "execution_count": 126,
   "metadata": {},
   "outputs": [
    {
     "data": {
      "text/plain": [
       "<matplotlib.axes._subplots.AxesSubplot at 0x27cb3925af0>"
      ]
     },
     "execution_count": 126,
     "metadata": {},
     "output_type": "execute_result"
    },
    {
     "data": {
      "image/png": "[encoded data removed]",
      "text/plain": [
       "<Figure size 432x288 with 1 Axes>"
      ]
     },
     "metadata": {
      "needs_background": "light"
     },
     "output_type": "display_data"
    }
   ],
   "source": [
    "formatteddata['tmpDate'] = formatteddata.index\n",
    "#original = formatteddata[['tmpDate', 'BTCUSD_close']]\n",
    "original['tmpDate']=pd.to_datetime(original['tmpDate'])\n",
    "original = original.loc[original['tmpDate'] >= '2021-5-11 10:00 PM']\n",
    "\n",
    "sns.lineplot(original['tmpDate'], original['BTCUSD_close'])\n",
    "sns.lineplot(df_forecast['tmpDate'], df_forecast['BTCUSD_close'])"
   ]
  },
  {
   "cell_type": "code",
   "execution_count": 127,
   "metadata": {},
   "outputs": [
    {
     "data": {
      "text/html": [
       "<div>\n",
       "<style scoped>\n",
       "    .dataframe tbody tr th:only-of-type {\n",
       "        vertical-align: middle;\n",
       "    }\n",
       "\n",
       "    .dataframe tbody tr th {\n",
       "        vertical-align: top;\n",
       "    }\n",
       "\n",
       "    .dataframe thead th {\n",
       "        text-align: right;\n",
       "    }\n",
       "</style>\n",
       "<table border=\"1\" class=\"dataframe\">\n",
       "  <thead>\n",
       "    <tr style=\"text-align: right;\">\n",
       "      <th></th>\n",
       "      <th>tmpDate</th>\n",
       "      <th>BTCUSD_close</th>\n",
       "    </tr>\n",
       "  </thead>\n",
       "  <tbody>\n",
       "    <tr>\n",
       "      <th>0</th>\n",
       "      <td>2021-05-12 00:29:00</td>\n",
       "      <td>55960.183594</td>\n",
       "    </tr>\n",
       "    <tr>\n",
       "      <th>1</th>\n",
       "      <td>2021-05-12 00:30:00</td>\n",
       "      <td>55984.679688</td>\n",
       "    </tr>\n",
       "    <tr>\n",
       "      <th>2</th>\n",
       "      <td>2021-05-12 00:31:00</td>\n",
       "      <td>56043.960938</td>\n",
       "    </tr>\n",
       "    <tr>\n",
       "      <th>3</th>\n",
       "      <td>2021-05-12 00:32:00</td>\n",
       "      <td>56045.414062</td>\n",
       "    </tr>\n",
       "    <tr>\n",
       "      <th>4</th>\n",
       "      <td>2021-05-12 00:33:00</td>\n",
       "      <td>56041.843750</td>\n",
       "    </tr>\n",
       "    <tr>\n",
       "      <th>...</th>\n",
       "      <td>...</td>\n",
       "      <td>...</td>\n",
       "    </tr>\n",
       "    <tr>\n",
       "      <th>85</th>\n",
       "      <td>2021-05-12 01:54:00</td>\n",
       "      <td>56380.765625</td>\n",
       "    </tr>\n",
       "    <tr>\n",
       "      <th>86</th>\n",
       "      <td>2021-05-12 01:55:00</td>\n",
       "      <td>56403.500000</td>\n",
       "    </tr>\n",
       "    <tr>\n",
       "      <th>87</th>\n",
       "      <td>2021-05-12 01:56:00</td>\n",
       "      <td>56436.621094</td>\n",
       "    </tr>\n",
       "    <tr>\n",
       "      <th>88</th>\n",
       "      <td>2021-05-12 01:57:00</td>\n",
       "      <td>56435.777344</td>\n",
       "    </tr>\n",
       "    <tr>\n",
       "      <th>89</th>\n",
       "      <td>2021-05-12 01:58:00</td>\n",
       "      <td>56448.636719</td>\n",
       "    </tr>\n",
       "  </tbody>\n",
       "</table>\n",
       "<p>90 rows × 2 columns</p>\n",
       "</div>"
      ],
      "text/plain": [
       "               tmpDate  BTCUSD_close\n",
       "0  2021-05-12 00:29:00  55960.183594\n",
       "1  2021-05-12 00:30:00  55984.679688\n",
       "2  2021-05-12 00:31:00  56043.960938\n",
       "3  2021-05-12 00:32:00  56045.414062\n",
       "4  2021-05-12 00:33:00  56041.843750\n",
       "..                 ...           ...\n",
       "85 2021-05-12 01:54:00  56380.765625\n",
       "86 2021-05-12 01:55:00  56403.500000\n",
       "87 2021-05-12 01:56:00  56436.621094\n",
       "88 2021-05-12 01:57:00  56435.777344\n",
       "89 2021-05-12 01:58:00  56448.636719\n",
       "\n",
       "[90 rows x 2 columns]"
      ]
     },
     "execution_count": 127,
     "metadata": {},
     "output_type": "execute_result"
    }
   ],
   "source": [
    "df_forecast.head(90)"
   ]
  },
  {
   "cell_type": "code",
   "execution_count": 38,
   "metadata": {},
   "outputs": [
    {
     "name": "stdout",
     "output_type": "stream",
     "text": [
      "15\n"
     ]
    }
   ],
   "source": [
    "print(trainX.shape[2])"
   ]
  },
  {
   "cell_type": "code",
   "execution_count": 39,
   "metadata": {},
   "outputs": [
    {
     "data": {
      "text/plain": [
       "15"
      ]
     },
     "execution_count": 39,
     "metadata": {},
     "output_type": "execute_result"
    }
   ],
   "source": [
    "trainX.shape[2]"
   ]
  },
  {
   "cell_type": "code",
   "execution_count": 103,
   "metadata": {},
   "outputs": [
    {
     "data": {
      "text/plain": [
       "<keras.callbacks.History at 0x27cbc10c130>"
      ]
     },
     "execution_count": 103,
     "metadata": {},
     "output_type": "execute_result"
    }
   ],
   "source": [
    "history"
   ]
  },
  {
   "cell_type": "code",
   "execution_count": 105,
   "metadata": {},
   "outputs": [
    {
     "name": "stdout",
     "output_type": "stream",
     "text": [
      "22302/22302 [==============================] - 73s 3ms/step - loss: 0.0019\n"
     ]
    },
    {
     "data": {
      "text/plain": [
       "0.0019038395257666707"
      ]
     },
     "execution_count": 105,
     "metadata": {},
     "output_type": "execute_result"
    }
   ],
   "source": [
    "model.evaluate(trainX, trainY)"
   ]
  },
  {
   "cell_type": "code",
   "execution_count": 106,
   "metadata": {},
   "outputs": [
    {
     "ename": "AttributeError",
     "evalue": "'Sequential' object has no attribute 'score'",
     "output_type": "error",
     "traceback": [
      "\u001b[1;31m---------------------------------------------------------------------------\u001b[0m",
      "\u001b[1;31mAttributeError\u001b[0m                            Traceback (most recent call last)",
      "\u001b[1;32m<ipython-input-106-11bc9cb23359>\u001b[0m in \u001b[0;36m<module>\u001b[1;34m\u001b[0m\n\u001b[1;32m----> 1\u001b[1;33m \u001b[0mprint\u001b[0m\u001b[1;33m(\u001b[0m\u001b[0mmodel\u001b[0m\u001b[1;33m.\u001b[0m\u001b[0mscore\u001b[0m\u001b[1;33m(\u001b[0m\u001b[0mtrainX\u001b[0m\u001b[1;33m,\u001b[0m \u001b[0mtrainY\u001b[0m\u001b[1;33m)\u001b[0m\u001b[1;33m)\u001b[0m\u001b[1;33m\u001b[0m\u001b[1;33m\u001b[0m\u001b[0m\n\u001b[0m",
      "\u001b[1;31mAttributeError\u001b[0m: 'Sequential' object has no attribute 'score'"
     ]
    }
   ],
   "source": [
    "print(model.score(trainX, trainY))"
   ]
  },
  {
   "cell_type": "code",
   "execution_count": 107,
   "metadata": {},
   "outputs": [
    {
     "data": {
      "text/plain": [
       "array([[-0.76359653],\n",
       "       [-0.76362336],\n",
       "       [-0.763471  ],\n",
       "       ...,\n",
       "       [ 1.9262342 ],\n",
       "       [ 1.9245949 ],\n",
       "       [ 1.9258585 ]], dtype=float32)"
      ]
     },
     "execution_count": 107,
     "metadata": {},
     "output_type": "execute_result"
    }
   ],
   "source": [
    "model.predict(trainX)"
   ]
  },
  {
   "cell_type": "code",
   "execution_count": 108,
   "metadata": {},
   "outputs": [
    {
     "data": {
      "text/plain": [
       "array([[1.9001443, 1.9001443, 1.9001443, ..., 1.9001443, 1.9001443,\n",
       "        1.9001443],\n",
       "       [1.9029372, 1.9029372, 1.9029372, ..., 1.9029372, 1.9029372,\n",
       "        1.9029372],\n",
       "       [1.9035945, 1.9035945, 1.9035945, ..., 1.9035945, 1.9035945,\n",
       "        1.9035945],\n",
       "       ...,\n",
       "       [1.9262342, 1.9262342, 1.9262342, ..., 1.9262342, 1.9262342,\n",
       "        1.9262342],\n",
       "       [1.9245949, 1.9245949, 1.9245949, ..., 1.9245949, 1.9245949,\n",
       "        1.9245949],\n",
       "       [1.9258585, 1.9258585, 1.9258585, ..., 1.9258585, 1.9258585,\n",
       "        1.9258585]], dtype=float32)"
      ]
     },
     "execution_count": 108,
     "metadata": {},
     "output_type": "execute_result"
    }
   ],
   "source": [
    "forecast_copies"
   ]
  },
  {
   "cell_type": "code",
   "execution_count": 109,
   "metadata": {},
   "outputs": [
    {
     "data": {
      "text/plain": [
       "array([54737.55 , 54787.125, 54798.793, 54808.254, 54816.95 , 54795.703,\n",
       "       54820.68 , 54807.52 , 54798.96 , 54763.008, 54769.176, 54775.44 ,\n",
       "       54752.816, 54740.965, 54757.844, 54764.01 , 54741.508, 54730.38 ,\n",
       "       54705.855, 54751.406, 54691.95 , 54748.   , 54731.773, 54751.52 ,\n",
       "       54754.855, 54747.74 , 54742.223, 54751.406, 54724.137, 54726.84 ,\n",
       "       54707.42 , 54677.82 , 54676.7  , 54660.94 , 54714.867, 54660.52 ,\n",
       "       54729.66 , 54731.277, 54770.293, 54759.137, 54790.746, 54786.59 ,\n",
       "       54805.734, 54776.906, 54823.86 , 54791.246, 54821.277, 54822.582,\n",
       "       54828.645, 54849.332, 54881.066, 54886.79 , 54911.613, 54909.35 ,\n",
       "       54952.848, 54962.297, 54925.562, 54965.133, 54942.535, 54958.223,\n",
       "       54949.125, 54942.098, 54901.254, 54946.633, 54954.094, 55053.45 ,\n",
       "       54999.812, 55073.902, 55137.145, 55181.65 , 55168.5  , 55185.68 ,\n",
       "       55206.035, 55198.812, 55190.15 , 55206.754, 55194.965, 55199.098,\n",
       "       55137.3  , 55160.766, 55159.207, 55135.93 , 55137.004, 55158.8  ,\n",
       "       55137.883, 55146.906, 55143.39 , 55200.64 , 55171.543, 55193.973],\n",
       "      dtype=float32)"
      ]
     },
     "execution_count": 109,
     "metadata": {},
     "output_type": "execute_result"
    }
   ],
   "source": [
    "y_pred_future"
   ]
  },
  {
   "cell_type": "code",
   "execution_count": null,
   "metadata": {},
   "outputs": [],
   "source": []
  }
 ],
 "metadata": {
  "kernelspec": {
   "display_name": "Python 3",
   "language": "python",
   "name": "python3"
  },
  "language_info": {
   "codemirror_mode": {
    "name": "ipython",
    "version": 3
   },
   "file_extension": ".py",
   "mimetype": "text/x-python",
   "name": "python",
   "nbconvert_exporter": "python",
   "pygments_lexer": "ipython3",
   "version": "3.8.3"
  }
 },
 "nbformat": 4,
 "nbformat_minor": 4
}
